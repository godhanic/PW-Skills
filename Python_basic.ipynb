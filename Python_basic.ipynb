{
  "nbformat": 4,
  "nbformat_minor": 0,
  "metadata": {
    "colab": {
      "provenance": []
    },
    "kernelspec": {
      "name": "python3",
      "display_name": "Python 3"
    },
    "language_info": {
      "name": "python"
    }
  },
  "cells": [
    {
      "cell_type": "code",
      "execution_count": null,
      "metadata": {
        "id": "Sm1SCK7xEHO6"
      },
      "outputs": [],
      "source": []
    },
    {
      "cell_type": "markdown",
      "source": [
        "# Python Basic"
      ],
      "metadata": {
        "id": "XvdmrOkXEUvh"
      }
    },
    {
      "cell_type": "code",
      "source": [],
      "metadata": {
        "id": "S1uPAYe4FUTL"
      },
      "execution_count": null,
      "outputs": []
    },
    {
      "cell_type": "markdown",
      "source": [
        "1.   what is python and why is it popular?\n",
        "*   Python is a general-purpose programming language known for its readability, simplicity, and versatility.\n",
        "Python is very Popular programming language because of Easy to Learn and Use, Wide Range of Applications, simple syntax similar to English, Strong Community Support and Open Source and Free.\n",
        "\n",
        "\n",
        "2.  what is the interpreter in python ?\n",
        "\n",
        "*   The Python interpreter is a program that reads and executes Python code line by line. It converts Python code into machine code that the computer can understand. Common interpreters include CPython, PyPy, and Jython.\n",
        "\n",
        "3. what are the pre-defined key words in python ?\n",
        "\n",
        "*   Pre-defined keywords in Python are reserved words with special meanings.\n",
        "They are used to define the syntax and structure of Python code.\n",
        "Examples include if, else, for, while, def, class, import, and return.\n",
        "\n",
        "4. Can keywords be used as variable names?\n",
        "\n",
        "*   keywords in Python are reserved words with special meanings. You cannot use keywords as variable names.\n",
        "\n",
        "5. what is mutability in python?\n",
        "\n",
        "*   Mutability in Python refers to whether an object can be changed after it’s created. Mutable objects can be changed (e.g., list, dict, set).\n",
        "Immutable objects cannot be changed (e.g., int, str, tuple).\n",
        "Changing a mutable object doesn’t create a new one; it updates the same object.\n",
        "\n",
        "\n",
        "\n",
        "6. why are lists mutable, tuples are Immutable?\n",
        "\n",
        "*   Lists are mutable because they are designed for flexible data handling — you can add, remove, or change items.\n",
        "Tuples are immutable to ensure data safety and integrity. Mutability makes lists slower but more flexible. Immutability makes tuples faster and hashable.\n",
        "It's a design choice based on different use cases.\n",
        "\n",
        "\n",
        "7. what is different between \"==\" and \"is\" operators in python?\n",
        "\n",
        "*   \"==\" checks if values are equal, even if the objects are different.\n",
        "\"is\" checks if two variables refer to the same object in memory.\n",
        "Use \"==\" for content comparison and \"is\" for identity comparison.\n",
        "They may give different results even if the values look the same.\n",
        "\n",
        "8. what are logical operators in python?\n",
        "\n",
        "*   Logical operators in Python are used to combine conditional statements.\n",
        "There are three main logical operators: `and`, `or`, and `not`.\n",
        "`and` returns True if both conditions are True.\n",
        " `or` returns True if at least one condition is True.\n",
        " `not` reverses the result (True becomes False, and vice versa).\n",
        "\n",
        " 9. what is type casting in python?\n",
        "\n",
        "*  Type casting in Python means converting one data type to another.\n",
        "It’s done using built-in functions like `int()`, `float()`, `str()`, etc.\n",
        "Example: `int(\"5\")` converts the string `\"5\"` to the number `5`.\n",
        "It helps when you need to operate on different data types.\n",
        "\n",
        "\n",
        "10. what is different between implicit and explicit type casting ?\n",
        "\n",
        "*  Type casting in Python means converting one data type to another. There are two types: implicit (done automatically) and explicit (done manually).\n",
        "\n",
        "\n",
        "11. what is the purpose of conditional statements in python?\n",
        "\n",
        "* The purpose of conditional statements in Python is to make decisions in your code. They allow you to execute certain blocks of code only if a condition is true. Common statements include `if`, `elif`, and `else`.\n",
        "They help control the flow of the program based on different conditions.\n",
        "In short, they let your code \"think\" and respond to different situations.\n",
        "\n",
        "\n",
        "12. How does the elif statement work ?\n",
        "\n",
        "* The `elif` statement in Python means \"else if\".\n",
        "It lets you check multiple conditions after an initial `if`.\n",
        "Python checks conditions top to bottom, and runs the first one that’s `True`.\n",
        "If none are `True`, it moves to the `else` block (if present).\n",
        "Only one block will run in an `if-elif-else` chain.\n",
        "\n",
        "13. what is different between for and while loops ?\n",
        "\n",
        "*  A for loop is used when you know how many times to repeat, like looping over a list or range.\n",
        "A while loop is used when you want to repeat until a condition is false.\n",
        "`for` is typically used for definite iteration.\n",
        "`while` is used for indefinite iteration.\n",
        "Both can use `break` and `continue` to control the loop.\n",
        "\n",
        "14. describe a scenario where a while loop is more suitable than a for loop?\n",
        "\n",
        "* A while loop is better when you don’t know in advance how many times to loop.\n",
        "Example: reading user input until they type \"exit\".\n",
        "You loop as long as a condition (like input ≠ \"exit\") is true.\n",
        "A `for` loop wouldn’t work well here because the number of inputs is unknown.\n",
        "So, while is best for open-ended repetition.\n"
      ],
      "metadata": {
        "id": "LibQDSMtEhZL"
      }
    },
    {
      "cell_type": "code",
      "source": [],
      "metadata": {
        "id": "JThOqweQFZpd"
      },
      "execution_count": null,
      "outputs": []
    },
    {
      "cell_type": "markdown",
      "source": [
        "# Practical questions\n"
      ],
      "metadata": {
        "id": "Cxp7g0BoR6y_"
      }
    },
    {
      "cell_type": "code",
      "source": [
        "# 1. write a python program to print \"Hello World!\"\n",
        "print(\"Hello World!\")"
      ],
      "metadata": {
        "colab": {
          "base_uri": "https://localhost:8080/"
        },
        "id": "QkQmib29SIdc",
        "outputId": "5fa0a7fd-03c4-4b17-bbbc-d789ecaa3ab0"
      },
      "execution_count": 1,
      "outputs": [
        {
          "output_type": "stream",
          "name": "stdout",
          "text": [
            "Hello World!\n"
          ]
        }
      ]
    },
    {
      "cell_type": "code",
      "source": [
        "# 2. write a python program that displays your name and age\n",
        "\n",
        "name = \"Chandrakant\"\n",
        "age = 37\n",
        "\n",
        "print(\"My name is\", name)\n",
        "print(\"I am\", age, \"years old\")\n"
      ],
      "metadata": {
        "colab": {
          "base_uri": "https://localhost:8080/"
        },
        "id": "yuwNO6znSoU_",
        "outputId": "5390fb70-f9f9-4413-ab52-53d10389c55a"
      },
      "execution_count": 2,
      "outputs": [
        {
          "output_type": "stream",
          "name": "stdout",
          "text": [
            "My name is Chandrakant\n",
            "I am 37 years old\n"
          ]
        }
      ]
    },
    {
      "cell_type": "code",
      "source": [
        "# 3. write code to print all pre-defined keywords in python using the keyword library.\n",
        "\n",
        "import keyword\n",
        "\n",
        "print(\"Python Keywords:\")\n",
        "print(keyword.kwlist)"
      ],
      "metadata": {
        "colab": {
          "base_uri": "https://localhost:8080/"
        },
        "id": "7eu7yVYyTMyI",
        "outputId": "7be5f8f5-5763-4727-8f18-461b7f6db449"
      },
      "execution_count": 3,
      "outputs": [
        {
          "output_type": "stream",
          "name": "stdout",
          "text": [
            "Python Keywords:\n",
            "['False', 'None', 'True', 'and', 'as', 'assert', 'async', 'await', 'break', 'class', 'continue', 'def', 'del', 'elif', 'else', 'except', 'finally', 'for', 'from', 'global', 'if', 'import', 'in', 'is', 'lambda', 'nonlocal', 'not', 'or', 'pass', 'raise', 'return', 'try', 'while', 'with', 'yield']\n"
          ]
        }
      ]
    },
    {
      "cell_type": "code",
      "source": [
        "# 4. write a program that check if a given word is a python keyword.\n",
        "import keyword\n",
        "\n",
        "word = input(\"Enter a word: \")\n",
        "\n",
        "if keyword.iskeyword(word):\n",
        "    print(f\"'{word}' is a Python keyword.\")\n",
        "else:\n",
        "    print(f\"'{word}' is not a Python keyword.\")\n"
      ],
      "metadata": {
        "colab": {
          "base_uri": "https://localhost:8080/"
        },
        "id": "tyoqyzpkT_pt",
        "outputId": "fbbbb416-0b53-47d8-a211-ded86e2a521b"
      },
      "execution_count": 4,
      "outputs": [
        {
          "output_type": "stream",
          "name": "stdout",
          "text": [
            "Enter a word: for\n",
            "'for' is a Python keyword.\n"
          ]
        }
      ]
    },
    {
      "cell_type": "code",
      "source": [
        "# 5. create a list and tuple in python and demonstrate how attempting to chnage an element works differently for each.\n",
        "\n",
        "my_list = [10, 20, 30]\n",
        "my_tuple = (10, 20, 30)\n",
        "\n",
        "# Modify an element in the list\n",
        "my_list[1] = 99\n",
        "print( my_list)\n",
        "\n",
        "# Attempt to modify an element in the tuple\n",
        "my_tuple[1] = 99\n",
        "print(my_tuple)\n"
      ],
      "metadata": {
        "colab": {
          "base_uri": "https://localhost:8080/",
          "height": 211
        },
        "id": "lkqEOXBgUxVO",
        "outputId": "2bfc2166-a330-4ae4-c5a4-a7c929e5c812"
      },
      "execution_count": 9,
      "outputs": [
        {
          "output_type": "stream",
          "name": "stdout",
          "text": [
            "[10, 99, 30]\n"
          ]
        },
        {
          "output_type": "error",
          "ename": "TypeError",
          "evalue": "'tuple' object does not support item assignment",
          "traceback": [
            "\u001b[0;31m---------------------------------------------------------------------------\u001b[0m",
            "\u001b[0;31mTypeError\u001b[0m                                 Traceback (most recent call last)",
            "\u001b[0;32m/tmp/ipython-input-9-2836018810.py\u001b[0m in \u001b[0;36m<cell line: 0>\u001b[0;34m()\u001b[0m\n\u001b[1;32m     11\u001b[0m \u001b[0;34m\u001b[0m\u001b[0m\n\u001b[1;32m     12\u001b[0m \u001b[0;31m# Attempt to modify an element in the tuple\u001b[0m\u001b[0;34m\u001b[0m\u001b[0;34m\u001b[0m\u001b[0m\n\u001b[0;32m---> 13\u001b[0;31m \u001b[0mmy_tuple\u001b[0m\u001b[0;34m[\u001b[0m\u001b[0;36m1\u001b[0m\u001b[0;34m]\u001b[0m \u001b[0;34m=\u001b[0m \u001b[0;36m99\u001b[0m\u001b[0;34m\u001b[0m\u001b[0;34m\u001b[0m\u001b[0m\n\u001b[0m\u001b[1;32m     14\u001b[0m \u001b[0mprint\u001b[0m\u001b[0;34m(\u001b[0m\u001b[0mmy_tuple\u001b[0m\u001b[0;34m)\u001b[0m\u001b[0;34m\u001b[0m\u001b[0;34m\u001b[0m\u001b[0m\n",
            "\u001b[0;31mTypeError\u001b[0m: 'tuple' object does not support item assignment"
          ]
        }
      ]
    },
    {
      "cell_type": "code",
      "source": [
        "# 6. write a function to demonstrate the behavior of mutable and immutable argumets.\n",
        "def change_values(a, b):\n",
        "    a = a + 1        # Immutable (int) - original won't change\n",
        "    b.append(4)      # Mutable (list) - original will change\n",
        "    print(\"Inside function - a:\", a)\n",
        "    print(\"Inside function - b:\", b)\n",
        "\n",
        "x = 10\n",
        "y = [1, 2, 3]\n",
        "\n",
        "change_values(x, y)\n",
        "\n",
        "print(\"Outside function - x:\", x)\n",
        "print(\"Outside function - y:\", y)\n"
      ],
      "metadata": {
        "colab": {
          "base_uri": "https://localhost:8080/"
        },
        "id": "u6fbyf3XWlNA",
        "outputId": "97bf247e-bb33-4023-bb6e-afef0987d1e2"
      },
      "execution_count": 10,
      "outputs": [
        {
          "output_type": "stream",
          "name": "stdout",
          "text": [
            "Inside function - a: 11\n",
            "Inside function - b: [1, 2, 3, 4]\n",
            "Outside function - x: 10\n",
            "Outside function - y: [1, 2, 3, 4]\n"
          ]
        }
      ]
    },
    {
      "cell_type": "code",
      "source": [
        "# 7. write a program that performs basic arithmetic operations on two user input arguments.\n",
        "# Get input from user\n",
        "num1 = float(input(\"Enter first number: \"))\n",
        "num2 = float(input(\"Enter second number: \"))\n",
        "\n",
        "# Perform operations\n",
        "print(\"Addition:\", num1 + num2)\n",
        "print(\"Subtraction:\", num1 - num2)\n",
        "print(\"Multiplication:\", num1 * num2)\n",
        "\n",
        "# Check for division by zero\n",
        "if num2 != 0:\n",
        "    print(\"Division:\", num1 / num2)\n",
        "else:\n",
        "    print(\"Division: Cannot divide by zero\")\n"
      ],
      "metadata": {
        "colab": {
          "base_uri": "https://localhost:8080/"
        },
        "id": "aPlIr2MpYBwA",
        "outputId": "86994f4b-6aeb-4543-e430-2123c1200184"
      },
      "execution_count": 11,
      "outputs": [
        {
          "output_type": "stream",
          "name": "stdout",
          "text": [
            "Enter first number: 10\n",
            "Enter second number: 5\n",
            "Addition: 15.0\n",
            "Subtraction: 5.0\n",
            "Multiplication: 50.0\n",
            "Division: 2.0\n"
          ]
        }
      ]
    },
    {
      "cell_type": "code",
      "source": [
        "# 8. write a program to demonstrate the use of logical operators\n",
        "\n",
        "age = 37\n",
        "id = \"yes\"\n",
        "\n",
        "# Using logical operators\n",
        "if age >= 18 and id == \"yes\":\n",
        "    print(\"Access granted\")\n",
        "else:\n",
        "    print(\"Access denied\")\n",
        "\n"
      ],
      "metadata": {
        "colab": {
          "base_uri": "https://localhost:8080/"
        },
        "id": "Ouq2UapGZ9ti",
        "outputId": "eedb4423-6074-4820-937e-7383f2cdbf98"
      },
      "execution_count": 16,
      "outputs": [
        {
          "output_type": "stream",
          "name": "stdout",
          "text": [
            "Access granted\n"
          ]
        }
      ]
    },
    {
      "cell_type": "code",
      "source": [
        "# 9. write a python program to convert user input from string to integer, float and Boolean types.\n",
        "\n",
        "# Get input from user\n",
        "user_input = input(\"Enter a value: \")\n",
        "\n",
        "int_value = int(user_input)\n",
        "print(int_value)\n",
        "\n",
        "type(int_value)"
      ],
      "metadata": {
        "colab": {
          "base_uri": "https://localhost:8080/"
        },
        "id": "74Z-bXl1Z-yT",
        "outputId": "c23979b8-57e5-4750-825c-63c4c8d95f63"
      },
      "execution_count": 20,
      "outputs": [
        {
          "output_type": "stream",
          "name": "stdout",
          "text": [
            "Enter a value: 20\n",
            "20\n"
          ]
        },
        {
          "output_type": "execute_result",
          "data": {
            "text/plain": [
              "int"
            ]
          },
          "metadata": {},
          "execution_count": 20
        }
      ]
    },
    {
      "cell_type": "code",
      "source": [
        "int_value = float(user_input)\n",
        "print(int_value)\n",
        "\n",
        "type(int_value)"
      ],
      "metadata": {
        "colab": {
          "base_uri": "https://localhost:8080/"
        },
        "id": "OCA463xQc6oY",
        "outputId": "7945a8aa-505c-409c-e472-e09f4d603f46"
      },
      "execution_count": 21,
      "outputs": [
        {
          "output_type": "stream",
          "name": "stdout",
          "text": [
            "20.0\n"
          ]
        },
        {
          "output_type": "execute_result",
          "data": {
            "text/plain": [
              "float"
            ]
          },
          "metadata": {},
          "execution_count": 21
        }
      ]
    },
    {
      "cell_type": "code",
      "source": [
        "int_value = bool(user_input)\n",
        "print(int_value)\n",
        "\n",
        "type(int_value)"
      ],
      "metadata": {
        "colab": {
          "base_uri": "https://localhost:8080/"
        },
        "id": "FfmQCKLPdMNX",
        "outputId": "a85931f6-13fc-4038-a507-cbe76a847ff5"
      },
      "execution_count": 22,
      "outputs": [
        {
          "output_type": "stream",
          "name": "stdout",
          "text": [
            "True\n"
          ]
        },
        {
          "output_type": "execute_result",
          "data": {
            "text/plain": [
              "bool"
            ]
          },
          "metadata": {},
          "execution_count": 22
        }
      ]
    },
    {
      "cell_type": "code",
      "source": [
        "# 10. write code to demonstrate type casting with list elements.\n",
        "# List of strings\n",
        "str_list = [\"1\", \"2\", \"3\"]\n",
        "\n",
        "# Convert each element to integer\n",
        "int_list = [int(x) for x in str_list]\n",
        "print(\"Integer list:\", int_list)\n",
        "\n",
        "# Convert each element to float\n",
        "float_list = [float(x) for x in str_list]\n",
        "print(\"Float list:\", float_list)\n"
      ],
      "metadata": {
        "colab": {
          "base_uri": "https://localhost:8080/"
        },
        "id": "TNI4DhwpZ_Uy",
        "outputId": "efc34634-548c-4850-9ac8-8f00fe95be89"
      },
      "execution_count": 23,
      "outputs": [
        {
          "output_type": "stream",
          "name": "stdout",
          "text": [
            "Integer list: [1, 2, 3]\n",
            "Float list: [1.0, 2.0, 3.0]\n"
          ]
        }
      ]
    },
    {
      "cell_type": "code",
      "source": [
        "# 11. write a program that check if a number is positive, negative or zero.\n",
        "\n",
        "num = 5\n",
        "\n",
        "# Check the number\n",
        "if num > 0:\n",
        "    print(\"The number is positive.\")\n",
        "elif num < 0:\n",
        "    print(\"The number is negative.\")\n",
        "else:\n",
        "    print(\"The number is zero.\")\n"
      ],
      "metadata": {
        "colab": {
          "base_uri": "https://localhost:8080/"
        },
        "id": "Fjzwc-2rZ__g",
        "outputId": "bd1813ea-1be2-4668-b369-96e20fe20dfc"
      },
      "execution_count": 24,
      "outputs": [
        {
          "output_type": "stream",
          "name": "stdout",
          "text": [
            "The number is positive.\n"
          ]
        }
      ]
    },
    {
      "cell_type": "code",
      "source": [
        "# 12. write a for loop to print numbers from 1 to 10\n",
        "\n",
        "for i in range(1, 11):\n",
        "    print(i)\n"
      ],
      "metadata": {
        "colab": {
          "base_uri": "https://localhost:8080/"
        },
        "id": "fwFnbsjjaAvY",
        "outputId": "e38b4c8c-295a-4c6d-d093-af423e8be14f"
      },
      "execution_count": 25,
      "outputs": [
        {
          "output_type": "stream",
          "name": "stdout",
          "text": [
            "1\n",
            "2\n",
            "3\n",
            "4\n",
            "5\n",
            "6\n",
            "7\n",
            "8\n",
            "9\n",
            "10\n"
          ]
        }
      ]
    },
    {
      "cell_type": "code",
      "source": [
        "# 13. write a python program to find the sum of all even numbers between 1 and 50.\n",
        "\n",
        "total = 0\n",
        "\n",
        "for i in range(2, 51, 2):\n",
        "    total += i\n",
        "\n",
        "print( total)\n"
      ],
      "metadata": {
        "colab": {
          "base_uri": "https://localhost:8080/"
        },
        "id": "Zzapnp8FaBeZ",
        "outputId": "ff2875d8-1c25-4b72-ca1e-3836e2f932f8"
      },
      "execution_count": 27,
      "outputs": [
        {
          "output_type": "stream",
          "name": "stdout",
          "text": [
            "650\n"
          ]
        }
      ]
    },
    {
      "cell_type": "code",
      "source": [
        "# 14. write a program to reverse a string using a while loop.\n",
        "\n",
        "text = \"Ajay\"\n",
        "\n",
        "reversed_text = \"\"\n",
        "index = len(text) - 1\n",
        "\n",
        "while index >= 0:\n",
        "    reversed_text += text[index]\n",
        "    index -= 1\n",
        "\n",
        "print(reversed_text)\n"
      ],
      "metadata": {
        "colab": {
          "base_uri": "https://localhost:8080/"
        },
        "id": "1IEmYTTIaCKP",
        "outputId": "80783ac5-8f3b-4a61-d4d8-434b53e30909"
      },
      "execution_count": 28,
      "outputs": [
        {
          "output_type": "stream",
          "name": "stdout",
          "text": [
            "yajA\n"
          ]
        }
      ]
    },
    {
      "cell_type": "code",
      "source": [
        "# 15. write a python program to calculate the factorial of a number provided by the user using a while loop\n",
        "\n",
        "num = int(input(\"Enter a number: \"))\n",
        "factorial = 1\n",
        "i = 1\n",
        "\n",
        "if num < 0:\n",
        "    print(\"Factorial does not exist for negative numbers.\")\n",
        "else:\n",
        "    while i <= num:\n",
        "        factorial *= i\n",
        "        i += 1\n",
        "    print(factorial)\n"
      ],
      "metadata": {
        "colab": {
          "base_uri": "https://localhost:8080/"
        },
        "id": "cr5JJFdVaDMj",
        "outputId": "65133f2f-7fc2-4c7e-abb2-ce88472d11cd"
      },
      "execution_count": 32,
      "outputs": [
        {
          "output_type": "stream",
          "name": "stdout",
          "text": [
            "Enter a number: 5\n",
            "120\n"
          ]
        }
      ]
    }
  ]
}